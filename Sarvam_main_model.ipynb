{
  "cells": [
    {
      "cell_type": "markdown",
      "metadata": {
        "id": "view-in-github",
        "colab_type": "text"
      },
      "source": [
        "<a href=\"https://colab.research.google.com/github/athulskrish/sarvam_main/blob/main/Sarvam_main_model.ipynb\" target=\"_parent\"><img src=\"https://colab.research.google.com/assets/colab-badge.svg\" alt=\"Open In Colab\"/></a>"
      ]
    },
    {
      "cell_type": "markdown",
      "metadata": {
        "id": "cPVT1bhNtNRC"
      },
      "source": [
        "https://huggingface.co/sarvamai/sarvam-m?clone=true"
      ]
    },
    {
      "cell_type": "code",
      "execution_count": null,
      "metadata": {
        "id": "IlvAsZ_5Jq7i"
      },
      "outputs": [],
      "source": []
    },
    {
      "cell_type": "code",
      "execution_count": null,
      "metadata": {
        "id": "I2utE6WsKrLP"
      },
      "outputs": [],
      "source": []
    },
    {
      "cell_type": "code",
      "execution_count": null,
      "metadata": {
        "id": "aAWvazeLsbpj"
      },
      "outputs": [],
      "source": [
        "!git lfs install"
      ]
    },
    {
      "cell_type": "code",
      "execution_count": null,
      "metadata": {
        "id": "1k0lDbkrtQ-o"
      },
      "outputs": [],
      "source": []
    },
    {
      "cell_type": "code",
      "execution_count": null,
      "metadata": {
        "id": "lWxka-J5yifG"
      },
      "outputs": [],
      "source": [
        "from transformers import AutoModelForCausalLM, AutoTokenizer\n",
        "\n",
        "model_name = \"sarvamai/sarvam-m\"\n",
        "\n",
        "# load the tokenizer and the model\n",
        "tokenizer = AutoTokenizer.from_pretrained(model_name)\n",
        "model = AutoModelForCausalLM.from_pretrained(\n",
        "    model_name, torch_dtype=\"auto\", device_map=\"auto\"\n",
        ")\n",
        "\n",
        "# prepare the model input\n",
        "prompt = \"Who are you and what is your purpose on this planet?\"\n",
        "\n",
        "messages = [{\"role\": \"user\", \"content\": prompt}]\n",
        "text = tokenizer.apply_chat_template(\n",
        "    messages,\n",
        "    tokenize=False,\n",
        "    enable_thinking=True,  # Switches between thinking and non-thinking modes. Default is True.\n",
        ")\n",
        "\n",
        "model_inputs = tokenizer([text], return_tensors=\"pt\").to(model.device)\n",
        "\n",
        "# conduct text completion\n",
        "generated_ids = model.generate(**model_inputs, max_new_tokens=8192)\n",
        "output_ids = generated_ids[0][len(model_inputs.input_ids[0]) :].tolist()\n",
        "output_text = tokenizer.decode(output_ids)\n",
        "\n",
        "if \"</think>\" in output_text:\n",
        "    reasoning_content = output_text.split(\"</think>\")[0].rstrip(\"\\n\")\n",
        "    content = output_text.split(\"</think>\")[-1].lstrip(\"\\n\").rstrip(\"</s>\")\n",
        "else:\n",
        "    reasoning_content = \"\"\n",
        "    content = output_text.rstrip(\"</s>\")\n",
        "\n",
        "print(\"reasoning content:\", reasoning_content)\n",
        "print(\"content:\", content)\n"
      ]
    },
    {
      "cell_type": "code",
      "execution_count": null,
      "metadata": {
        "id": "SzVMcU4fyjJV"
      },
      "outputs": [],
      "source": []
    }
  ],
  "metadata": {
    "accelerator": "GPU",
    "colab": {
      "gpuType": "T4",
      "provenance": [],
      "authorship_tag": "ABX9TyP4Dn54hLXoqe/km5ouCYST",
      "include_colab_link": true
    },
    "kernelspec": {
      "display_name": "Python 3",
      "name": "python3"
    },
    "language_info": {
      "name": "python"
    }
  },
  "nbformat": 4,
  "nbformat_minor": 0
}